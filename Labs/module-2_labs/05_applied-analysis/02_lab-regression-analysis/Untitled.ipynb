{
 "cells": [
  {
   "cell_type": "code",
   "execution_count": 16,
   "metadata": {},
   "outputs": [
    {
     "ename": "ModuleNotFoundError",
     "evalue": "No module named 'statsmodel'",
     "output_type": "error",
     "traceback": [
      "\u001b[0;31m---------------------------------------------------------------------------\u001b[0m",
      "\u001b[0;31mModuleNotFoundError\u001b[0m                       Traceback (most recent call last)",
      "\u001b[0;32m<ipython-input-16-0506b0b52505>\u001b[0m in \u001b[0;36m<module>\u001b[0;34m\u001b[0m\n\u001b[1;32m      3\u001b[0m \u001b[0;32mimport\u001b[0m \u001b[0mmatplotlib\u001b[0m\u001b[0;34m.\u001b[0m\u001b[0mpyplot\u001b[0m \u001b[0;32mas\u001b[0m \u001b[0mplt\u001b[0m\u001b[0;34m\u001b[0m\u001b[0;34m\u001b[0m\u001b[0m\n\u001b[1;32m      4\u001b[0m \u001b[0;32mimport\u001b[0m \u001b[0mseaborn\u001b[0m \u001b[0;32mas\u001b[0m \u001b[0msns\u001b[0m\u001b[0;34m\u001b[0m\u001b[0;34m\u001b[0m\u001b[0m\n\u001b[0;32m----> 5\u001b[0;31m \u001b[0;32mimport\u001b[0m \u001b[0mstatsmodel\u001b[0m\u001b[0;34m.\u001b[0m\u001b[0mapi\u001b[0m \u001b[0;32mas\u001b[0m \u001b[0msm\u001b[0m\u001b[0;34m\u001b[0m\u001b[0;34m\u001b[0m\u001b[0m\n\u001b[0m",
      "\u001b[0;31mModuleNotFoundError\u001b[0m: No module named 'statsmodel'"
     ]
    }
   ],
   "source": [
    "import numpy as np\n",
    "import pandas as pd\n",
    "import matplotlib.pyplot as plt\n",
    "import seaborn as sns\n",
    "import statsmodel.api as sm"
   ]
  },
  {
   "cell_type": "code",
   "execution_count": 2,
   "metadata": {},
   "outputs": [
    {
     "data": {
      "text/html": [
       "<div>\n",
       "<style scoped>\n",
       "    .dataframe tbody tr th:only-of-type {\n",
       "        vertical-align: middle;\n",
       "    }\n",
       "\n",
       "    .dataframe tbody tr th {\n",
       "        vertical-align: top;\n",
       "    }\n",
       "\n",
       "    .dataframe thead th {\n",
       "        text-align: right;\n",
       "    }\n",
       "</style>\n",
       "<table border=\"1\" class=\"dataframe\">\n",
       "  <thead>\n",
       "    <tr style=\"text-align: right;\">\n",
       "      <th></th>\n",
       "      <th>Species</th>\n",
       "      <th>CommonName</th>\n",
       "      <th>HeadLength</th>\n",
       "      <th>BodyLength</th>\n",
       "    </tr>\n",
       "  </thead>\n",
       "  <tbody>\n",
       "    <tr>\n",
       "      <th>0</th>\n",
       "      <td>Crocodylus porosus</td>\n",
       "      <td>Estuarine Crocodile</td>\n",
       "      <td>24</td>\n",
       "      <td>161</td>\n",
       "    </tr>\n",
       "    <tr>\n",
       "      <th>1</th>\n",
       "      <td>Crocodylus porosus</td>\n",
       "      <td>Estuarine Crocodile</td>\n",
       "      <td>24</td>\n",
       "      <td>179</td>\n",
       "    </tr>\n",
       "    <tr>\n",
       "      <th>2</th>\n",
       "      <td>Crocodylus porosus</td>\n",
       "      <td>Estuarine Crocodile</td>\n",
       "      <td>32</td>\n",
       "      <td>226</td>\n",
       "    </tr>\n",
       "    <tr>\n",
       "      <th>3</th>\n",
       "      <td>Crocodylus porosus</td>\n",
       "      <td>Estuarine Crocodile</td>\n",
       "      <td>35</td>\n",
       "      <td>259</td>\n",
       "    </tr>\n",
       "    <tr>\n",
       "      <th>4</th>\n",
       "      <td>Crocodylus porosus</td>\n",
       "      <td>Estuarine Crocodile</td>\n",
       "      <td>40</td>\n",
       "      <td>287</td>\n",
       "    </tr>\n",
       "  </tbody>\n",
       "</table>\n",
       "</div>"
      ],
      "text/plain": [
       "              Species           CommonName  HeadLength  BodyLength\n",
       "0  Crocodylus porosus  Estuarine Crocodile          24         161\n",
       "1  Crocodylus porosus  Estuarine Crocodile          24         179\n",
       "2  Crocodylus porosus  Estuarine Crocodile          32         226\n",
       "3  Crocodylus porosus  Estuarine Crocodile          35         259\n",
       "4  Crocodylus porosus  Estuarine Crocodile          40         287"
      ]
     },
     "execution_count": 2,
     "metadata": {},
     "output_type": "execute_result"
    }
   ],
   "source": [
    "df = pd.read_csv('Estuarine_Crocodile.csv')\n",
    "df.head()"
   ]
  },
  {
   "cell_type": "code",
   "execution_count": 3,
   "metadata": {},
   "outputs": [
    {
     "data": {
      "text/plain": [
       "0.9898911439276338"
      ]
     },
     "execution_count": 3,
     "metadata": {},
     "output_type": "execute_result"
    }
   ],
   "source": [
    "df['BodyLength'].corr(df['HeadLength'])"
   ]
  },
  {
   "cell_type": "code",
   "execution_count": 5,
   "metadata": {},
   "outputs": [
    {
     "data": {
      "text/html": [
       "<div>\n",
       "<style scoped>\n",
       "    .dataframe tbody tr th:only-of-type {\n",
       "        vertical-align: middle;\n",
       "    }\n",
       "\n",
       "    .dataframe tbody tr th {\n",
       "        vertical-align: top;\n",
       "    }\n",
       "\n",
       "    .dataframe thead th {\n",
       "        text-align: right;\n",
       "    }\n",
       "</style>\n",
       "<table border=\"1\" class=\"dataframe\">\n",
       "  <thead>\n",
       "    <tr style=\"text-align: right;\">\n",
       "      <th></th>\n",
       "      <th>HeadLength</th>\n",
       "      <th>BodyLength</th>\n",
       "    </tr>\n",
       "  </thead>\n",
       "  <tbody>\n",
       "    <tr>\n",
       "      <th>HeadLength</th>\n",
       "      <td>1.000000</td>\n",
       "      <td>0.989891</td>\n",
       "    </tr>\n",
       "    <tr>\n",
       "      <th>BodyLength</th>\n",
       "      <td>0.989891</td>\n",
       "      <td>1.000000</td>\n",
       "    </tr>\n",
       "  </tbody>\n",
       "</table>\n",
       "</div>"
      ],
      "text/plain": [
       "            HeadLength  BodyLength\n",
       "HeadLength    1.000000    0.989891\n",
       "BodyLength    0.989891    1.000000"
      ]
     },
     "execution_count": 5,
     "metadata": {},
     "output_type": "execute_result"
    }
   ],
   "source": [
    "df.corr()"
   ]
  },
  {
   "cell_type": "code",
   "execution_count": 6,
   "metadata": {},
   "outputs": [
    {
     "name": "stdout",
     "output_type": "stream",
     "text": [
      "Help on function scatterplot in module seaborn.relational:\n",
      "\n",
      "scatterplot(x=None, y=None, hue=None, style=None, size=None, data=None, palette=None, hue_order=None, hue_norm=None, sizes=None, size_order=None, size_norm=None, markers=True, style_order=None, x_bins=None, y_bins=None, units=None, estimator=None, ci=95, n_boot=1000, alpha='auto', x_jitter=None, y_jitter=None, legend='brief', ax=None, **kwargs)\n",
      "    Draw a scatter plot with possibility of several semantic groupings.\n",
      "    \n",
      "    The relationship between ``x`` and ``y`` can be shown for different subsets\n",
      "    of the data using the ``hue``, ``size``, and ``style`` parameters. These\n",
      "    parameters control what visual semantics are used to identify the different\n",
      "    subsets. It is possible to show up to three dimensions independently by\n",
      "    using all three semantic types, but this style of plot can be hard to\n",
      "    interpret and is often ineffective. Using redundant semantics (i.e. both\n",
      "    ``hue`` and ``style`` for the same variable) can be helpful for making\n",
      "    graphics more accessible.\n",
      "    \n",
      "    See the :ref:`tutorial <relational_tutorial>` for more information.    \n",
      "    \n",
      "    The default treatment of the ``hue`` (and to a lesser extent, ``size``)\n",
      "    semantic, if present, depends on whether the variable is inferred to\n",
      "    represent \"numeric\" or \"categorical\" data. In particular, numeric variables\n",
      "    are represented with a sequential colormap by default, and the legend\n",
      "    entries show regular \"ticks\" with values that may or may not exist in the\n",
      "    data. This behavior can be controlled through various parameters, as\n",
      "    described and illustrated below.    \n",
      "    \n",
      "    Parameters\n",
      "    ----------\n",
      "    x, y : names of variables in ``data`` or vector data, optional\n",
      "        Input data variables; must be numeric. Can pass data directly or\n",
      "        reference columns in ``data``.    \n",
      "    hue : name of variables in ``data`` or vector data, optional\n",
      "        Grouping variable that will produce points with different colors.\n",
      "        Can be either categorical or numeric, although color mapping will\n",
      "        behave differently in latter case.\n",
      "    size : name of variables in ``data`` or vector data, optional\n",
      "        Grouping variable that will produce points with different sizes.\n",
      "        Can be either categorical or numeric, although size mapping will\n",
      "        behave differently in latter case.\n",
      "    style : name of variables in ``data`` or vector data, optional\n",
      "        Grouping variable that will produce points with different markers.\n",
      "        Can have a numeric dtype but will always be treated as categorical.\n",
      "    data : DataFrame\n",
      "        Tidy (\"long-form\") dataframe where each column is a variable and each\n",
      "        row is an observation.    \n",
      "    palette : palette name, list, or dict, optional\n",
      "        Colors to use for the different levels of the ``hue`` variable. Should\n",
      "        be something that can be interpreted by :func:`color_palette`, or a\n",
      "        dictionary mapping hue levels to matplotlib colors.    \n",
      "    hue_order : list, optional\n",
      "        Specified order for the appearance of the ``hue`` variable levels,\n",
      "        otherwise they are determined from the data. Not relevant when the\n",
      "        ``hue`` variable is numeric.    \n",
      "    hue_norm : tuple or Normalize object, optional\n",
      "        Normalization in data units for colormap applied to the ``hue``\n",
      "        variable when it is numeric. Not relevant if it is categorical.    \n",
      "    sizes : list, dict, or tuple, optional\n",
      "        An object that determines how sizes are chosen when ``size`` is used.\n",
      "        It can always be a list of size values or a dict mapping levels of the\n",
      "        ``size`` variable to sizes. When ``size``  is numeric, it can also be\n",
      "        a tuple specifying the minimum and maximum size to use such that other\n",
      "        values are normalized within this range.    \n",
      "    size_order : list, optional\n",
      "        Specified order for appearance of the ``size`` variable levels,\n",
      "        otherwise they are determined from the data. Not relevant when the\n",
      "        ``size`` variable is numeric.    \n",
      "    size_norm : tuple or Normalize object, optional\n",
      "        Normalization in data units for scaling plot objects when the\n",
      "        ``size`` variable is numeric.    \n",
      "    markers : boolean, list, or dictionary, optional\n",
      "        Object determining how to draw the markers for different levels of the\n",
      "        ``style`` variable. Setting to ``True`` will use default markers, or\n",
      "        you can pass a list of markers or a dictionary mapping levels of the\n",
      "        ``style`` variable to markers. Setting to ``False`` will draw\n",
      "        marker-less lines.  Markers are specified as in matplotlib.    \n",
      "    style_order : list, optional\n",
      "        Specified order for appearance of the ``style`` variable levels\n",
      "        otherwise they are determined from the data. Not relevant when the\n",
      "        ``style`` variable is numeric.    \n",
      "    {x,y}_bins : lists or arrays or functions\n",
      "        *Currently non-functional.*\n",
      "    units : {long_form_var}\n",
      "        Grouping variable identifying sampling units. When used, a separate\n",
      "        line will be drawn for each unit with appropriate semantics, but no\n",
      "        legend entry will be added. Useful for showing distribution of\n",
      "        experimental replicates when exact identities are not needed.\n",
      "    \n",
      "        *Currently non-functional.*\n",
      "    estimator : name of pandas method or callable or None, optional\n",
      "        Method for aggregating across multiple observations of the ``y``\n",
      "        variable at the same ``x`` level. If ``None``, all observations will\n",
      "        be drawn.    \n",
      "        *Currently non-functional.*\n",
      "    ci : int or \"sd\" or None, optional\n",
      "        Size of the confidence interval to draw when aggregating with an\n",
      "        estimator. \"sd\" means to draw the standard deviation of the data.\n",
      "        Setting to ``None`` will skip bootstrapping.    \n",
      "        *Currently non-functional.*\n",
      "    n_boot : int, optional\n",
      "        Number of bootstraps to use for computing the confidence interval.    \n",
      "        *Currently non-functional.*\n",
      "    alpha : float\n",
      "        Proportional opacity of the points.\n",
      "    {x,y}_jitter : booleans or floats\n",
      "        *Currently non-functional.*\n",
      "    legend : \"brief\", \"full\", or False, optional\n",
      "        How to draw the legend. If \"brief\", numeric ``hue`` and ``size``\n",
      "        variables will be represented with a sample of evenly spaced values.\n",
      "        If \"full\", every group will get an entry in the legend. If ``False``,\n",
      "        no legend data is added and no legend is drawn.    \n",
      "    ax : matplotlib Axes, optional\n",
      "        Axes object to draw the plot onto, otherwise uses the current Axes.    \n",
      "    kwargs : key, value mappings\n",
      "        Other keyword arguments are passed down to\n",
      "        :meth:`matplotlib.axes.Axes.scatter`.\n",
      "    \n",
      "    Returns\n",
      "    -------\n",
      "    ax : matplotlib Axes\n",
      "        Returns the Axes object with the plot drawn onto it.    \n",
      "    \n",
      "    See Also\n",
      "    --------\n",
      "    lineplot : Show the relationship between two variables connected with\n",
      "               lines to emphasize continuity.\n",
      "    swarmplot : Draw a scatter plot with one categorical variable, arranging\n",
      "                the points to show the distribution of values.\n",
      "    \n",
      "    Examples\n",
      "    --------\n",
      "    \n",
      "    Draw a simple scatter plot between two variables:\n",
      "    \n",
      "    .. plot::\n",
      "        :context: close-figs\n",
      "    \n",
      "        >>> import seaborn as sns; sns.set()\n",
      "        >>> import matplotlib.pyplot as plt\n",
      "        >>> tips = sns.load_dataset(\"tips\")\n",
      "        >>> ax = sns.scatterplot(x=\"total_bill\", y=\"tip\", data=tips)\n",
      "    \n",
      "    Group by another variable and show the groups with different colors:\n",
      "    \n",
      "    .. plot::\n",
      "        :context: close-figs\n",
      "    \n",
      "        >>> ax = sns.scatterplot(x=\"total_bill\", y=\"tip\", hue=\"time\",\n",
      "        ...                      data=tips)\n",
      "    \n",
      "    Show the grouping variable by varying both color and marker:\n",
      "    \n",
      "    .. plot::\n",
      "        :context: close-figs\n",
      "    \n",
      "        >>> ax = sns.scatterplot(x=\"total_bill\", y=\"tip\",\n",
      "        ...                      hue=\"time\", style=\"time\", data=tips)\n",
      "    \n",
      "    Vary colors and markers to show two different grouping variables:\n",
      "    \n",
      "    .. plot::\n",
      "        :context: close-figs\n",
      "    \n",
      "        >>> ax = sns.scatterplot(x=\"total_bill\", y=\"tip\",\n",
      "        ...                      hue=\"day\", style=\"time\", data=tips)\n",
      "    \n",
      "    Show a quantitative variable by varying the size of the points:\n",
      "    \n",
      "    .. plot::\n",
      "        :context: close-figs\n",
      "    \n",
      "        >>> ax = sns.scatterplot(x=\"total_bill\", y=\"tip\", size=\"size\",\n",
      "        ...                      data=tips)\n",
      "    \n",
      "    Also show the quantitative variable by also using continuous colors:\n",
      "    \n",
      "    .. plot::\n",
      "        :context: close-figs\n",
      "    \n",
      "        >>> ax = sns.scatterplot(x=\"total_bill\", y=\"tip\",\n",
      "        ...                      hue=\"size\", size=\"size\",\n",
      "        ...                      data=tips)\n",
      "    \n",
      "    Use a different continuous color map:\n",
      "    \n",
      "    .. plot::\n",
      "        :context: close-figs\n",
      "    \n",
      "        >>> cmap = sns.cubehelix_palette(dark=.3, light=.8, as_cmap=True)\n",
      "        >>> ax = sns.scatterplot(x=\"total_bill\", y=\"tip\",\n",
      "        ...                      hue=\"size\", size=\"size\",\n",
      "        ...                      palette=cmap,\n",
      "        ...                      data=tips)\n",
      "    \n",
      "    Change the minimum and maximum point size and show all sizes in legend:\n",
      "    \n",
      "    .. plot::\n",
      "        :context: close-figs\n",
      "    \n",
      "        >>> cmap = sns.cubehelix_palette(dark=.3, light=.8, as_cmap=True)\n",
      "        >>> ax = sns.scatterplot(x=\"total_bill\", y=\"tip\",\n",
      "        ...                      hue=\"size\", size=\"size\",\n",
      "        ...                      sizes=(20, 200), palette=cmap,\n",
      "        ...                      legend=\"full\", data=tips)\n",
      "    \n",
      "    Use a narrower range of color map intensities:\n",
      "    \n",
      "    .. plot::\n",
      "        :context: close-figs\n",
      "    \n",
      "        >>> cmap = sns.cubehelix_palette(dark=.3, light=.8, as_cmap=True)\n",
      "        >>> ax = sns.scatterplot(x=\"total_bill\", y=\"tip\",\n",
      "        ...                      hue=\"size\", size=\"size\",\n",
      "        ...                      sizes=(20, 200), hue_norm=(0, 7),\n",
      "        ...                      legend=\"full\", data=tips)\n",
      "    \n",
      "    Vary the size with a categorical variable, and use a different palette:\n",
      "    \n",
      "    .. plot::\n",
      "        :context: close-figs\n",
      "    \n",
      "        >>> cmap = sns.cubehelix_palette(dark=.3, light=.8, as_cmap=True)\n",
      "        >>> ax = sns.scatterplot(x=\"total_bill\", y=\"tip\",\n",
      "        ...                      hue=\"day\", size=\"smoker\",\n",
      "        ...                      palette=\"Set2\",\n",
      "        ...                      data=tips)\n",
      "    \n",
      "    Use a specific set of markers:\n",
      "    \n",
      "    .. plot::\n",
      "        :context: close-figs\n",
      "    \n",
      "        >>> markers = {\"Lunch\": \"s\", \"Dinner\": \"X\"}\n",
      "        >>> ax = sns.scatterplot(x=\"total_bill\", y=\"tip\", style=\"time\",\n",
      "        ...                      markers=markers,\n",
      "        ...                      data=tips)\n",
      "    \n",
      "    Control plot attributes using matplotlib parameters:\n",
      "    \n",
      "    .. plot::\n",
      "        :context: close-figs\n",
      "    \n",
      "        >>> ax = sns.scatterplot(x=\"total_bill\", y=\"tip\",\n",
      "        ...                      s=100, color=\".2\", marker=\"+\",\n",
      "        ...                      data=tips)\n",
      "    \n",
      "    Pass data vectors instead of names in a data frame:\n",
      "    \n",
      "    .. plot::\n",
      "        :context: close-figs\n",
      "    \n",
      "        >>> iris = sns.load_dataset(\"iris\")\n",
      "        >>> ax = sns.scatterplot(x=iris.sepal_length, y=iris.sepal_width,\n",
      "        ...                      hue=iris.species, style=iris.species)\n",
      "    \n",
      "    Pass a wide-form dataset and plot against its index:\n",
      "    \n",
      "    .. plot::\n",
      "        :context: close-figs\n",
      "    \n",
      "        >>> import numpy as np, pandas as pd; plt.close(\"all\")\n",
      "        >>> index = pd.date_range(\"1 1 2000\", periods=100,\n",
      "        ...                       freq=\"m\", name=\"date\")\n",
      "        >>> data = np.random.randn(100, 4).cumsum(axis=0)\n",
      "        >>> wide_df = pd.DataFrame(data, index, [\"a\", \"b\", \"c\", \"d\"])\n",
      "        >>> ax = sns.scatterplot(data=wide_df)\n",
      "    \n",
      "    Use :func:`relplot` to combine :func:`scatterplot` and :class:`FacetGrid`:\n",
      "    This allows grouping within additional categorical variables. Using\n",
      "    :func:`relplot` is safer than using :class:`FacetGrid` directly, as it\n",
      "    ensures synchronization of the semantic mappings across facets.\n",
      "    \n",
      "    .. plot::\n",
      "        :context: close-figs\n",
      "    \n",
      "        >>> g = sns.relplot(x=\"total_bill\", y=\"tip\",\n",
      "        ...                  col=\"time\", hue=\"day\", style=\"day\",\n",
      "        ...                  kind=\"scatter\", data=tips)\n",
      "\n"
     ]
    }
   ],
   "source": [
    "help(sns.scatterplot)"
   ]
  },
  {
   "cell_type": "code",
   "execution_count": 9,
   "metadata": {},
   "outputs": [
    {
     "data": {
      "text/plain": [
       "<matplotlib.axes._subplots.AxesSubplot at 0x7fc98c318190>"
      ]
     },
     "execution_count": 9,
     "metadata": {},
     "output_type": "execute_result"
    },
    {
     "data": {
      "image/png": "[encoded data removed]",
      "text/plain": [
       "<Figure size 432x288 with 1 Axes>"
      ]
     },
     "metadata": {
      "needs_background": "light"
     },
     "output_type": "display_data"
    }
   ],
   "source": [
    "# Create a scatter plot\n",
    "\n",
    "sns.scatterplot(x = df['BodyLength'], y = df['BodyLength'])"
   ]
  },
  {
   "cell_type": "raw",
   "metadata": {},
   "source": []
  },
  {
   "cell_type": "code",
   "execution_count": 8,
   "metadata": {},
   "outputs": [
    {
     "data": {
      "text/plain": [
       "<seaborn.axisgrid.FacetGrid at 0x7fc99058e650>"
      ]
     },
     "execution_count": 8,
     "metadata": {},
     "output_type": "execute_result"
    },
    {
     "data": {
      "image/png": "[encoded data removed]",
      "text/plain": [
       "<Figure size 360x360 with 1 Axes>"
      ]
     },
     "metadata": {
      "needs_background": "light"
     },
     "output_type": "display_data"
    }
   ],
   "source": [
    "# Scatter Plot, using the linea modul\n",
    "# help(sns.lmplot)\n",
    "\n",
    "lsns.lmplot(data = df, x = 'HeadLength', y = 'BodyLength')"
   ]
  },
  {
   "cell_type": "markdown",
   "metadata": {},
   "source": [
    "## Linear Regression"
   ]
  },
  {
   "cell_type": "code",
   "execution_count": null,
   "metadata": {},
   "outputs": [],
   "source": []
  },
  {
   "cell_type": "code",
   "execution_count": null,
   "metadata": {},
   "outputs": [],
   "source": []
  },
  {
   "cell_type": "code",
   "execution_count": null,
   "metadata": {},
   "outputs": [],
   "source": []
  }
 ],
 "metadata": {
  "kernelspec": {
   "display_name": "Python 3",
   "language": "python",
   "name": "python3"
  },
  "language_info": {
   "codemirror_mode": {
    "name": "ipython",
    "version": 3
   },
   "file_extension": ".py",
   "mimetype": "text/x-python",
   "name": "python",
   "nbconvert_exporter": "python",
   "pygments_lexer": "ipython3",
   "version": "3.7.6"
  }
 },
 "nbformat": 4,
 "nbformat_minor": 4
}
