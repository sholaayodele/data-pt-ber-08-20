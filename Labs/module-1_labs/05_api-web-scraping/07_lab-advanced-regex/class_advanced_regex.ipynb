{
 "cells": [
  {
   "cell_type": "markdown",
   "metadata": {},
   "source": [
    "## Advanced Regex"
   ]
  },
  {
   "cell_type": "code",
   "execution_count": 44,
   "metadata": {},
   "outputs": [],
   "source": [
    "import re"
   ]
  },
  {
   "cell_type": "markdown",
   "metadata": {},
   "source": [
    "### Repetition searching for basic patterns"
   ]
  },
  {
   "cell_type": "code",
   "execution_count": 101,
   "metadata": {},
   "outputs": [],
   "source": [
    "text = \" That dog is very fluffy\"\n",
    "\n"
   ]
  },
  {
   "cell_type": "code",
   "execution_count": 102,
   "metadata": {},
   "outputs": [
    {
     "data": {
      "text/plain": [
       "['f', 'f', 'f']"
      ]
     },
     "execution_count": 102,
     "metadata": {},
     "output_type": "execute_result"
    }
   ],
   "source": [
    "pattern = 'f'\n",
    "#Find number of f in the sentence\n",
    "re.findall(pattern, text)\n",
    "\n",
    "###re.search(pattern, text)\n"
   ]
  },
  {
   "cell_type": "code",
   "execution_count": 61,
   "metadata": {},
   "outputs": [
    {
     "data": {
      "text/plain": [
       "<re.Match object; span=(0, 4), match='That'>"
      ]
     },
     "execution_count": 61,
     "metadata": {},
     "output_type": "execute_result"
    }
   ],
   "source": [
    "re.match(\"That\", text)"
   ]
  },
  {
   "cell_type": "code",
   "execution_count": 62,
   "metadata": {},
   "outputs": [
    {
     "data": {
      "text/plain": [
       "<re.Match object; span=(0, 1), match='T'>"
      ]
     },
     "execution_count": 62,
     "metadata": {},
     "output_type": "execute_result"
    }
   ],
   "source": [
    "## Check if  my sentence starts with an upper case letter\n",
    "\n",
    "re.match('[A-Z]', text)"
   ]
  },
  {
   "cell_type": "code",
   "execution_count": 40,
   "metadata": {},
   "outputs": [
    {
     "data": {
      "text/plain": [
       "['f', 'u', 'f', 'f']"
      ]
     },
     "execution_count": 40,
     "metadata": {},
     "output_type": "execute_result"
    }
   ],
   "source": [
    "#pattern = 'uf'\n",
    "pattern = '[uf]'\n",
    "re.findall(pattern, text)"
   ]
  },
  {
   "cell_type": "markdown",
   "metadata": {},
   "source": [
    "### [ ]  Match set of characters"
   ]
  },
  {
   "cell_type": "code",
   "execution_count": 48,
   "metadata": {},
   "outputs": [
    {
     "data": {
      "text/plain": [
       "['gray', 'grey', 'gruy']"
      ]
     },
     "execution_count": 48,
     "metadata": {},
     "output_type": "execute_result"
    }
   ],
   "source": [
    "text2 = \"Is it spelled gray or grey or gruy or groiy\"\n",
    "\n",
    "pattern = 'gr[aeuoi]y'\n",
    "re.findall(pattern, text2)\n"
   ]
  },
  {
   "cell_type": "code",
   "execution_count": 50,
   "metadata": {},
   "outputs": [
    {
     "data": {
      "text/plain": [
       "['A', 'B', 'C']"
      ]
     },
     "execution_count": 50,
     "metadata": {},
     "output_type": "execute_result"
    }
   ],
   "source": [
    "text3 = \"This is an A and B conversations, so C your way out of it you D!.\"\n",
    "## Find all except letter C\n",
    "# re.findall('[ABD]', text3)\n",
    "\n",
    "re.findall('[A-C]', text3)"
   ]
  },
  {
   "cell_type": "code",
   "execution_count": null,
   "metadata": {},
   "outputs": [],
   "source": []
  },
  {
   "cell_type": "markdown",
   "metadata": {},
   "source": [
    "### Match any character except newline (\\n)"
   ]
  },
  {
   "cell_type": "code",
   "execution_count": 51,
   "metadata": {},
   "outputs": [
    {
     "name": "stdout",
     "output_type": "stream",
     "text": [
      "[' ', 'T', 'h', 'a', 't', ' ', 'd', 'o', 'g', ' ', 'i', 's', ' ', 'v', 'e', 'r', 'y', ' ', 'f', 'l', 'u', 'f', 'f', 'y']\n"
     ]
    }
   ],
   "source": [
    "text = \" That dog is very fluffy\"\n",
    "\n",
    "pattern = '.'\n",
    "\n",
    "print(re.findall(pattern, text))"
   ]
  },
  {
   "cell_type": "code",
   "execution_count": null,
   "metadata": {},
   "outputs": [],
   "source": []
  },
  {
   "cell_type": "code",
   "execution_count": 54,
   "metadata": {},
   "outputs": [
    {
     "name": "stdout",
     "output_type": "stream",
     "text": [
      "That dog is very fluffy. \n",
      "It also has floppy ears.\n"
     ]
    }
   ],
   "source": [
    "text4 = \"That dog is very fluffy. \\nIt also has floppy ears.\"\n",
    "# pattern = '.'\n",
    "print(text4)"
   ]
  },
  {
   "cell_type": "markdown",
   "metadata": {},
   "source": [
    "### ^Match characters not listed with "
   ]
  },
  {
   "cell_type": "code",
   "execution_count": 63,
   "metadata": {},
   "outputs": [
    {
     "name": "stdout",
     "output_type": "stream",
     "text": [
      "['T', '.']\n"
     ]
    }
   ],
   "source": [
    "\n",
    "\n",
    "text = \"That dog is very fluffy.\"\n",
    "\n",
    "\n",
    "\n",
    "pattern = '[^a-z0-9! ]' ## matches everything except whats behind ^\n",
    "\n",
    "\n",
    "print(re.findall(pattern, text))"
   ]
  },
  {
   "cell_type": "code",
   "execution_count": 59,
   "metadata": {},
   "outputs": [
    {
     "name": "stdout",
     "output_type": "stream",
     "text": [
      "['That dog']\n"
     ]
    }
   ],
   "source": [
    "pattern = '^That dog'\n",
    "\n",
    "print(re.findall(pattern, text))\n",
    "\n"
   ]
  },
  {
   "cell_type": "code",
   "execution_count": 60,
   "metadata": {},
   "outputs": [
    {
     "name": "stdout",
     "output_type": "stream",
     "text": [
      "[]\n"
     ]
    }
   ],
   "source": [
    "pattern = '^fluffy'\n",
    "\n",
    "print(re.findall(pattern, text))"
   ]
  },
  {
   "cell_type": "markdown",
   "metadata": {},
   "source": [
    "### $Match end of line"
   ]
  },
  {
   "cell_type": "code",
   "execution_count": 66,
   "metadata": {},
   "outputs": [
    {
     "name": "stdout",
     "output_type": "stream",
     "text": [
      "[]\n"
     ]
    }
   ],
   "source": [
    "### $ finds what is at the end of the line \n",
    "\n",
    "pattern = '^That dog$'\n",
    "\n",
    "print(re.findall(pattern, text))"
   ]
  },
  {
   "cell_type": "code",
   "execution_count": 65,
   "metadata": {},
   "outputs": [
    {
     "name": "stdout",
     "output_type": "stream",
     "text": [
      "['fluffy.']\n"
     ]
    }
   ],
   "source": [
    "pattern = 'fluffy.$'\n",
    "\n",
    "print(re.findall(pattern, text))"
   ]
  },
  {
   "cell_type": "markdown",
   "metadata": {},
   "source": [
    "### |Functions as an \"OR\" operator"
   ]
  },
  {
   "cell_type": "code",
   "execution_count": 68,
   "metadata": {},
   "outputs": [
    {
     "name": "stdout",
     "output_type": "stream",
     "text": [
      "['dog', 'fluffy']\n"
     ]
    }
   ],
   "source": [
    "pattern = 'fluffy|dog'\n",
    "\n",
    "print(re.findall(pattern, text))"
   ]
  },
  {
   "cell_type": "code",
   "execution_count": null,
   "metadata": {},
   "outputs": [],
   "source": []
  },
  {
   "cell_type": "markdown",
   "metadata": {},
   "source": [
    "### *Matches previous character 0 or more times"
   ]
  },
  {
   "cell_type": "code",
   "execution_count": 70,
   "metadata": {},
   "outputs": [
    {
     "name": "stdout",
     "output_type": "stream",
     "text": [
      "['og', 'dog', 'dddog', 'ddog', 'og', 'og', 'dog']\n"
     ]
    }
   ],
   "source": [
    "dogtext = \"og dog dddog ddog ddooogg ddoogggg daaag deg dog\"\n",
    "\n",
    "\n",
    "pattern = 'd*og' #matches the character before the * 0 or more times\n",
    "\n",
    "print(re.findall(pattern, dogtext))"
   ]
  },
  {
   "cell_type": "markdown",
   "metadata": {},
   "source": [
    "### +Matches previous character 1 or more times"
   ]
  },
  {
   "cell_type": "code",
   "execution_count": 71,
   "metadata": {},
   "outputs": [
    {
     "name": "stdout",
     "output_type": "stream",
     "text": [
      "['dog', 'dddog', 'ddog', 'ddooog', 'ddoog', 'dog']\n"
     ]
    }
   ],
   "source": [
    "pattern = 'd+o+g' \n",
    "\n",
    "print(re.findall(pattern, dogtext))"
   ]
  },
  {
   "cell_type": "markdown",
   "metadata": {},
   "source": [
    "###  ?Matches previous character 0 or 1 more times Optional)"
   ]
  },
  {
   "cell_type": "code",
   "execution_count": 72,
   "metadata": {},
   "outputs": [
    {
     "name": "stdout",
     "output_type": "stream",
     "text": [
      "['og', 'dog', 'dog', 'dog', 'og', 'og', 'dog']\n"
     ]
    }
   ],
   "source": [
    "pattern = 'd?og' \n",
    "\n",
    "print(re.findall(pattern, dogtext))"
   ]
  },
  {
   "cell_type": "markdown",
   "metadata": {},
   "source": [
    "###  {num1, num2} Matches previous characters num1-num2 times"
   ]
  },
  {
   "cell_type": "code",
   "execution_count": 80,
   "metadata": {},
   "outputs": [
    {
     "name": "stdout",
     "output_type": "stream",
     "text": [
      "['og', 'dog', 'dddog', 'ddog', 'og', 'og', 'dog']\n"
     ]
    }
   ],
   "source": [
    "# pattern = 'd{2,}og'## I want not more than 2 d's\n",
    "\n",
    "pattern = 'd{0,3}og'## I want not more than 3 d's\n",
    "print(re.findall(pattern, dogtext))"
   ]
  },
  {
   "cell_type": "markdown",
   "metadata": {},
   "source": [
    "### Challenge: Extract all the words from the following sentence:\n",
    "##### cattext = 'Every cat has nine lives'"
   ]
  },
  {
   "cell_type": "code",
   "execution_count": 77,
   "metadata": {},
   "outputs": [
    {
     "name": "stdout",
     "output_type": "stream",
     "text": [
      "['Every', 'cat', 'has', 'nine', 'lives']\n"
     ]
    }
   ],
   "source": [
    "cattext = 'Every cat has nine lives'\n",
    "\n",
    "#pattern = \\w\n",
    "\n",
    "print(re.findall('\\w+', cattext))"
   ]
  },
  {
   "cell_type": "markdown",
   "metadata": {},
   "source": [
    "### Now extract only words that have atleast 4 letters!"
   ]
  },
  {
   "cell_type": "code",
   "execution_count": 84,
   "metadata": {},
   "outputs": [
    {
     "name": "stdout",
     "output_type": "stream",
     "text": [
      "['Every', 'nine', 'lives']\n"
     ]
    }
   ],
   "source": [
    "print(re.findall('\\w{4,}', cattext))"
   ]
  },
  {
   "cell_type": "markdown",
   "metadata": {},
   "source": [
    "### Extract all the phone numbers from the following text."
   ]
  },
  {
   "cell_type": "code",
   "execution_count": 96,
   "metadata": {},
   "outputs": [],
   "source": [
    "text = '''\n",
    "Aeromexico 800-237-6639\n",
    "Air Canada 888-247-2262\n",
    "Air Canada Rouge 888-247-2262\n",
    "Air Creebec 800-567-6567\n",
    "Air Inuit 800-361-2965\n",
    "Air North 800-661-0407 \n",
    "'''\n"
   ]
  },
  {
   "cell_type": "code",
   "execution_count": 97,
   "metadata": {},
   "outputs": [
    {
     "name": "stdout",
     "output_type": "stream",
     "text": [
      "['800-237-6639', '888-247-2262', '888-247-2262', '800-567-6567', '800-361-2965', '800-661-0407']\n"
     ]
    }
   ],
   "source": [
    "pattern = '\\d+-\\d+-\\d+'\n",
    "print(re.findall(pattern, text))"
   ]
  },
  {
   "cell_type": "code",
   "execution_count": null,
   "metadata": {},
   "outputs": [],
   "source": []
  },
  {
   "cell_type": "code",
   "execution_count": null,
   "metadata": {},
   "outputs": [],
   "source": []
  },
  {
   "cell_type": "code",
   "execution_count": null,
   "metadata": {},
   "outputs": [],
   "source": []
  },
  {
   "cell_type": "code",
   "execution_count": null,
   "metadata": {},
   "outputs": [],
   "source": []
  }
 ],
 "metadata": {
  "kernelspec": {
   "display_name": "Python 3",
   "language": "python",
   "name": "python3"
  },
  "language_info": {
   "codemirror_mode": {
    "name": "ipython",
    "version": 3
   },
   "file_extension": ".py",
   "mimetype": "text/x-python",
   "name": "python",
   "nbconvert_exporter": "python",
   "pygments_lexer": "ipython3",
   "version": "3.8.5"
  }
 },
 "nbformat": 4,
 "nbformat_minor": 4
}
