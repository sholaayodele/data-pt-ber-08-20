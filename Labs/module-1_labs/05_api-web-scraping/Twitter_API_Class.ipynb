{
 "cells": [
  {
   "cell_type": "code",
   "execution_count": 40,
   "metadata": {},
   "outputs": [],
   "source": [
    "import json\n",
    "import tweepy\n",
    "import pandas as pd"
   ]
  },
  {
   "cell_type": "markdown",
   "metadata": {},
   "source": [
    "## Twitter API"
   ]
  },
  {
   "cell_type": "markdown",
   "metadata": {},
   "source": [
    "#### Generate your credentials online!"
   ]
  },
  {
   "cell_type": "code",
   "execution_count": null,
   "metadata": {},
   "outputs": [],
   "source": []
  },
  {
   "cell_type": "code",
   "execution_count": 41,
   "metadata": {},
   "outputs": [],
   "source": [
    "API_KEY = 'wit7G5L4fYn9nM9XEP0Sxqb4L'\n",
    "API_SECRET = 'xGGCqlxcZKCg99dyjGI0vDJ8uKkzDo87FbXCS0dSTF0cisWbdz'\n",
    "\n",
    "ACCESS_TOKEN = '56323514-u2P6Pxy69JHdnZ6wi7kUEPOlKQJpzVSM7x4H3pwcy'\n",
    "ACCESS_TOKEN_SECRET = 'nBAI23pdYl2A44sBBt3xy0vgqDGQDsoOiaVae5BicMm1I'"
   ]
  },
  {
   "cell_type": "code",
   "execution_count": 42,
   "metadata": {},
   "outputs": [],
   "source": [
    "auth = tweepy.OAuthHandler(API_KEY, API_SECRET)\n",
    "auth.set_access_token(ACCESS_TOKEN, ACCESS_TOKEN_SECRET)\n",
    "api = tweepy.API(auth)"
   ]
  },
  {
   "cell_type": "code",
   "execution_count": 43,
   "metadata": {},
   "outputs": [
    {
     "data": {
      "text/plain": [
       "User(_api=<tweepy.api.API object at 0x7ffe70a2c490>, _json={'id': 56323514, 'id_str': '56323514', 'name': 'Shola Ayodz', 'screen_name': 'shozy01', 'location': 'Berlin ', 'profile_location': None, 'description': 'Live the Life you love , love the Life you Live.', 'url': None, 'entities': {'description': {'urls': []}}, 'protected': True, 'followers_count': 48, 'friends_count': 248, 'listed_count': 0, 'created_at': 'Mon Jul 13 08:32:43 +0000 2009', 'favourites_count': 6, 'utc_offset': None, 'time_zone': None, 'geo_enabled': False, 'verified': False, 'statuses_count': 79, 'lang': None, 'status': {'created_at': 'Sun May 31 20:26:25 +0000 2015', 'id': 605108087863816193, 'id_str': '605108087863816193', 'text': '#Nigeria2015', 'truncated': False, 'entities': {'hashtags': [{'text': 'Nigeria2015', 'indices': [0, 12]}], 'symbols': [], 'user_mentions': [], 'urls': []}, 'source': '<a href=\"http://twitter.com/download/iphone\" rel=\"nofollow\">Twitter for iPhone</a>', 'in_reply_to_status_id': None, 'in_reply_to_status_id_str': None, 'in_reply_to_user_id': None, 'in_reply_to_user_id_str': None, 'in_reply_to_screen_name': None, 'geo': None, 'coordinates': None, 'place': None, 'contributors': None, 'is_quote_status': False, 'retweet_count': 0, 'favorite_count': 5, 'favorited': False, 'retweeted': False, 'lang': 'und'}, 'contributors_enabled': False, 'is_translator': False, 'is_translation_enabled': False, 'profile_background_color': '0099B9', 'profile_background_image_url': 'http://abs.twimg.com/images/themes/theme4/bg.gif', 'profile_background_image_url_https': 'https://abs.twimg.com/images/themes/theme4/bg.gif', 'profile_background_tile': True, 'profile_image_url': 'http://pbs.twimg.com/profile_images/1312699194872868864/owqznhxO_normal.jpg', 'profile_image_url_https': 'https://pbs.twimg.com/profile_images/1312699194872868864/owqznhxO_normal.jpg', 'profile_banner_url': 'https://pbs.twimg.com/profile_banners/56323514/1411424984', 'profile_link_color': '0099B9', 'profile_sidebar_border_color': '000000', 'profile_sidebar_fill_color': '95E8EC', 'profile_text_color': '3C3940', 'profile_use_background_image': True, 'has_extended_profile': False, 'default_profile': False, 'default_profile_image': False, 'following': False, 'follow_request_sent': False, 'notifications': False, 'translator_type': 'none', 'suspended': False, 'needs_phone_verification': False}, id=56323514, id_str='56323514', name='Shola Ayodz', screen_name='shozy01', location='Berlin ', profile_location=None, description='Live the Life you love , love the Life you Live.', url=None, entities={'description': {'urls': []}}, protected=True, followers_count=48, friends_count=248, listed_count=0, created_at=datetime.datetime(2009, 7, 13, 8, 32, 43), favourites_count=6, utc_offset=None, time_zone=None, geo_enabled=False, verified=False, statuses_count=79, lang=None, status=Status(_api=<tweepy.api.API object at 0x7ffe70a2c490>, _json={'created_at': 'Sun May 31 20:26:25 +0000 2015', 'id': 605108087863816193, 'id_str': '605108087863816193', 'text': '#Nigeria2015', 'truncated': False, 'entities': {'hashtags': [{'text': 'Nigeria2015', 'indices': [0, 12]}], 'symbols': [], 'user_mentions': [], 'urls': []}, 'source': '<a href=\"http://twitter.com/download/iphone\" rel=\"nofollow\">Twitter for iPhone</a>', 'in_reply_to_status_id': None, 'in_reply_to_status_id_str': None, 'in_reply_to_user_id': None, 'in_reply_to_user_id_str': None, 'in_reply_to_screen_name': None, 'geo': None, 'coordinates': None, 'place': None, 'contributors': None, 'is_quote_status': False, 'retweet_count': 0, 'favorite_count': 5, 'favorited': False, 'retweeted': False, 'lang': 'und'}, created_at=datetime.datetime(2015, 5, 31, 20, 26, 25), id=605108087863816193, id_str='605108087863816193', text='#Nigeria2015', truncated=False, entities={'hashtags': [{'text': 'Nigeria2015', 'indices': [0, 12]}], 'symbols': [], 'user_mentions': [], 'urls': []}, source='Twitter for iPhone', source_url='http://twitter.com/download/iphone', in_reply_to_status_id=None, in_reply_to_status_id_str=None, in_reply_to_user_id=None, in_reply_to_user_id_str=None, in_reply_to_screen_name=None, geo=None, coordinates=None, place=None, contributors=None, is_quote_status=False, retweet_count=0, favorite_count=5, favorited=False, retweeted=False, lang='und'), contributors_enabled=False, is_translator=False, is_translation_enabled=False, profile_background_color='0099B9', profile_background_image_url='http://abs.twimg.com/images/themes/theme4/bg.gif', profile_background_image_url_https='https://abs.twimg.com/images/themes/theme4/bg.gif', profile_background_tile=True, profile_image_url='http://pbs.twimg.com/profile_images/1312699194872868864/owqznhxO_normal.jpg', profile_image_url_https='https://pbs.twimg.com/profile_images/1312699194872868864/owqznhxO_normal.jpg', profile_banner_url='https://pbs.twimg.com/profile_banners/56323514/1411424984', profile_link_color='0099B9', profile_sidebar_border_color='000000', profile_sidebar_fill_color='95E8EC', profile_text_color='3C3940', profile_use_background_image=True, has_extended_profile=False, default_profile=False, default_profile_image=False, following=False, follow_request_sent=False, notifications=False, translator_type='none', suspended=False, needs_phone_verification=False)"
      ]
     },
     "execution_count": 43,
     "metadata": {},
     "output_type": "execute_result"
    }
   ],
   "source": [
    "api.me()"
   ]
  },
  {
   "cell_type": "code",
   "execution_count": 44,
   "metadata": {},
   "outputs": [],
   "source": [
    "# TO SAVE A FILE\n",
    "## with open('twitter_credentials.json', 'r') as outfile:\n",
    "   ## json.dump(cred.outfile)\n",
    "\n",
    "    #. First save the file, 2- add it to .gitignore file which you would create and add (twitter_credentials.json)\n",
    "\n",
    "    ## TO READ a file which was saved \n",
    "## with open('twitter_credentials.json', 'r') as infile:\n",
    "    ## credentials = json.load(infile.read())\n",
    "## print(credentials )\n",
    "\n",
    "\n",
    "#### credentialss['API_KEY']\n",
    "\n",
    "#auth = tweepy.OAuthHandler(API_KEY, API_SECRET), credentials['API_KEY']\n",
    "#auth.set_access_token(ACCESS_TOKEN, ACCESS_TOKEN_SECRET), credentials['ACCESS_TOKEN_SECRET']\n",
    "#api = tweepy.API(auth)"
   ]
  },
  {
   "cell_type": "code",
   "execution_count": null,
   "metadata": {},
   "outputs": [],
   "source": []
  },
  {
   "cell_type": "markdown",
   "metadata": {},
   "source": [
    "### Read the Tweepy documentation to find out aboout methods"
   ]
  },
  {
   "cell_type": "markdown",
   "metadata": {},
   "source": [
    "#### http://docs.tweepy.org/en/latest/api.html#tweepy-api-twitter-api-wrapper"
   ]
  },
  {
   "cell_type": "code",
   "execution_count": null,
   "metadata": {},
   "outputs": [],
   "source": []
  },
  {
   "cell_type": "code",
   "execution_count": 45,
   "metadata": {},
   "outputs": [
    {
     "data": {
      "text/html": [
       "<div>\n",
       "<style scoped>\n",
       "    .dataframe tbody tr th:only-of-type {\n",
       "        vertical-align: middle;\n",
       "    }\n",
       "\n",
       "    .dataframe tbody tr th {\n",
       "        vertical-align: top;\n",
       "    }\n",
       "\n",
       "    .dataframe thead th {\n",
       "        text-align: right;\n",
       "    }\n",
       "</style>\n",
       "<table border=\"1\" class=\"dataframe\">\n",
       "  <thead>\n",
       "    <tr style=\"text-align: right;\">\n",
       "      <th></th>\n",
       "      <th>name</th>\n",
       "      <th>url</th>\n",
       "      <th>parentid</th>\n",
       "      <th>country</th>\n",
       "      <th>woeid</th>\n",
       "      <th>countryCode</th>\n",
       "      <th>placeType.code</th>\n",
       "      <th>placeType.name</th>\n",
       "    </tr>\n",
       "  </thead>\n",
       "  <tbody>\n",
       "    <tr>\n",
       "      <th>0</th>\n",
       "      <td>Worldwide</td>\n",
       "      <td>http://where.yahooapis.com/v1/place/1</td>\n",
       "      <td>0</td>\n",
       "      <td></td>\n",
       "      <td>1</td>\n",
       "      <td>None</td>\n",
       "      <td>19</td>\n",
       "      <td>Supername</td>\n",
       "    </tr>\n",
       "    <tr>\n",
       "      <th>1</th>\n",
       "      <td>Winnipeg</td>\n",
       "      <td>http://where.yahooapis.com/v1/place/2972</td>\n",
       "      <td>23424775</td>\n",
       "      <td>Canada</td>\n",
       "      <td>2972</td>\n",
       "      <td>CA</td>\n",
       "      <td>7</td>\n",
       "      <td>Town</td>\n",
       "    </tr>\n",
       "    <tr>\n",
       "      <th>2</th>\n",
       "      <td>Ottawa</td>\n",
       "      <td>http://where.yahooapis.com/v1/place/3369</td>\n",
       "      <td>23424775</td>\n",
       "      <td>Canada</td>\n",
       "      <td>3369</td>\n",
       "      <td>CA</td>\n",
       "      <td>7</td>\n",
       "      <td>Town</td>\n",
       "    </tr>\n",
       "    <tr>\n",
       "      <th>3</th>\n",
       "      <td>Quebec</td>\n",
       "      <td>http://where.yahooapis.com/v1/place/3444</td>\n",
       "      <td>23424775</td>\n",
       "      <td>Canada</td>\n",
       "      <td>3444</td>\n",
       "      <td>CA</td>\n",
       "      <td>7</td>\n",
       "      <td>Town</td>\n",
       "    </tr>\n",
       "    <tr>\n",
       "      <th>4</th>\n",
       "      <td>Montreal</td>\n",
       "      <td>http://where.yahooapis.com/v1/place/3534</td>\n",
       "      <td>23424775</td>\n",
       "      <td>Canada</td>\n",
       "      <td>3534</td>\n",
       "      <td>CA</td>\n",
       "      <td>7</td>\n",
       "      <td>Town</td>\n",
       "    </tr>\n",
       "    <tr>\n",
       "      <th>...</th>\n",
       "      <td>...</td>\n",
       "      <td>...</td>\n",
       "      <td>...</td>\n",
       "      <td>...</td>\n",
       "      <td>...</td>\n",
       "      <td>...</td>\n",
       "      <td>...</td>\n",
       "      <td>...</td>\n",
       "    </tr>\n",
       "    <tr>\n",
       "      <th>462</th>\n",
       "      <td>Vietnam</td>\n",
       "      <td>http://where.yahooapis.com/v1/place/23424984</td>\n",
       "      <td>1</td>\n",
       "      <td>Vietnam</td>\n",
       "      <td>23424984</td>\n",
       "      <td>VN</td>\n",
       "      <td>12</td>\n",
       "      <td>Country</td>\n",
       "    </tr>\n",
       "    <tr>\n",
       "      <th>463</th>\n",
       "      <td>Petaling</td>\n",
       "      <td>http://where.yahooapis.com/v1/place/56013632</td>\n",
       "      <td>23424901</td>\n",
       "      <td>Malaysia</td>\n",
       "      <td>56013632</td>\n",
       "      <td>MY</td>\n",
       "      <td>7</td>\n",
       "      <td>Town</td>\n",
       "    </tr>\n",
       "    <tr>\n",
       "      <th>464</th>\n",
       "      <td>Hulu Langat</td>\n",
       "      <td>http://where.yahooapis.com/v1/place/56013645</td>\n",
       "      <td>23424901</td>\n",
       "      <td>Malaysia</td>\n",
       "      <td>56013645</td>\n",
       "      <td>MY</td>\n",
       "      <td>7</td>\n",
       "      <td>Town</td>\n",
       "    </tr>\n",
       "    <tr>\n",
       "      <th>465</th>\n",
       "      <td>Ahsa</td>\n",
       "      <td>http://where.yahooapis.com/v1/place/56120136</td>\n",
       "      <td>23424938</td>\n",
       "      <td>Saudi Arabia</td>\n",
       "      <td>56120136</td>\n",
       "      <td>SA</td>\n",
       "      <td>9</td>\n",
       "      <td>Unknown</td>\n",
       "    </tr>\n",
       "    <tr>\n",
       "      <th>466</th>\n",
       "      <td>Okayama</td>\n",
       "      <td>http://where.yahooapis.com/v1/place/90036018</td>\n",
       "      <td>23424856</td>\n",
       "      <td>Japan</td>\n",
       "      <td>90036018</td>\n",
       "      <td>JP</td>\n",
       "      <td>7</td>\n",
       "      <td>Town</td>\n",
       "    </tr>\n",
       "  </tbody>\n",
       "</table>\n",
       "<p>467 rows × 8 columns</p>\n",
       "</div>"
      ],
      "text/plain": [
       "            name                                           url  parentid  \\\n",
       "0      Worldwide         http://where.yahooapis.com/v1/place/1         0   \n",
       "1       Winnipeg      http://where.yahooapis.com/v1/place/2972  23424775   \n",
       "2         Ottawa      http://where.yahooapis.com/v1/place/3369  23424775   \n",
       "3         Quebec      http://where.yahooapis.com/v1/place/3444  23424775   \n",
       "4       Montreal      http://where.yahooapis.com/v1/place/3534  23424775   \n",
       "..           ...                                           ...       ...   \n",
       "462      Vietnam  http://where.yahooapis.com/v1/place/23424984         1   \n",
       "463     Petaling  http://where.yahooapis.com/v1/place/56013632  23424901   \n",
       "464  Hulu Langat  http://where.yahooapis.com/v1/place/56013645  23424901   \n",
       "465         Ahsa  http://where.yahooapis.com/v1/place/56120136  23424938   \n",
       "466      Okayama  http://where.yahooapis.com/v1/place/90036018  23424856   \n",
       "\n",
       "          country     woeid countryCode  placeType.code placeType.name  \n",
       "0                         1        None              19      Supername  \n",
       "1          Canada      2972          CA               7           Town  \n",
       "2          Canada      3369          CA               7           Town  \n",
       "3          Canada      3444          CA               7           Town  \n",
       "4          Canada      3534          CA               7           Town  \n",
       "..            ...       ...         ...             ...            ...  \n",
       "462       Vietnam  23424984          VN              12        Country  \n",
       "463      Malaysia  56013632          MY               7           Town  \n",
       "464      Malaysia  56013645          MY               7           Town  \n",
       "465  Saudi Arabia  56120136          SA               9        Unknown  \n",
       "466         Japan  90036018          JP               7           Town  \n",
       "\n",
       "[467 rows x 8 columns]"
      ]
     },
     "execution_count": 45,
     "metadata": {},
     "output_type": "execute_result"
    }
   ],
   "source": [
    "## Using .json format to view in a dataFrame form, this would remove the nested columns(json_normalize)\n",
    "trends = pd.json_normalize(api.trends_available())\n",
    "trends"
   ]
  },
  {
   "cell_type": "code",
   "execution_count": 46,
   "metadata": {},
   "outputs": [
    {
     "name": "stdout",
     "output_type": "stream",
     "text": [
      "[{'trends': [{'name': '#b1010', 'url': 'http://twitter.com/search?q=%23b1010', 'promoted_content': None, 'query': '%23b1010', 'tweet_volume': None}, {'name': '#Welthundetag', 'url': 'http://twitter.com/search?q=%23Welthundetag', 'promoted_content': None, 'query': '%23Welthundetag', 'tweet_volume': None}, {'name': '#MapOfTheSoulOne', 'url': 'http://twitter.com/search?q=%23MapOfTheSoulOne', 'promoted_content': None, 'query': '%23MapOfTheSoulOne', 'tweet_volume': 1700849}, {'name': '#WorldMentalHealthDay', 'url': 'http://twitter.com/search?q=%23WorldMentalHealthDay', 'promoted_content': None, 'query': '%23WorldMentalHealthDay', 'tweet_volume': 353931}, {'name': 'Kapitalismus', 'url': 'http://twitter.com/search?q=Kapitalismus', 'promoted_content': None, 'query': 'Kapitalismus', 'tweet_volume': None}, {'name': 'namjoon', 'url': 'http://twitter.com/search?q=namjoon', 'promoted_content': None, 'query': 'namjoon', 'tweet_volume': 333693}, {'name': '#fcksvw', 'url': 'http://twitter.com/search?q=%23fcksvw', 'promoted_content': None, 'query': '%23fcksvw', 'tweet_volume': None}], 'as_of': '2020-10-10T13:22:57Z', 'created_at': '2020-10-09T05:39:59Z', 'locations': [{'name': 'Berlin', 'woeid': 638242}]}]\n"
     ]
    }
   ],
   "source": [
    "trends_berlin = api.trends_place(638242)\n",
    "print(trends_berlin)"
   ]
  },
  {
   "cell_type": "code",
   "execution_count": 47,
   "metadata": {},
   "outputs": [
    {
     "data": {
      "text/html": [
       "<div>\n",
       "<style scoped>\n",
       "    .dataframe tbody tr th:only-of-type {\n",
       "        vertical-align: middle;\n",
       "    }\n",
       "\n",
       "    .dataframe tbody tr th {\n",
       "        vertical-align: top;\n",
       "    }\n",
       "\n",
       "    .dataframe thead th {\n",
       "        text-align: right;\n",
       "    }\n",
       "</style>\n",
       "<table border=\"1\" class=\"dataframe\">\n",
       "  <thead>\n",
       "    <tr style=\"text-align: right;\">\n",
       "      <th></th>\n",
       "      <th>trends</th>\n",
       "      <th>as_of</th>\n",
       "      <th>created_at</th>\n",
       "      <th>locations</th>\n",
       "    </tr>\n",
       "  </thead>\n",
       "  <tbody>\n",
       "    <tr>\n",
       "      <th>0</th>\n",
       "      <td>[{'name': '#b1010', 'url': 'http://twitter.com...</td>\n",
       "      <td>2020-10-10T13:22:57Z</td>\n",
       "      <td>2020-10-09T05:39:59Z</td>\n",
       "      <td>[{'name': 'Berlin', 'woeid': 638242}]</td>\n",
       "    </tr>\n",
       "  </tbody>\n",
       "</table>\n",
       "</div>"
      ],
      "text/plain": [
       "                                              trends                 as_of  \\\n",
       "0  [{'name': '#b1010', 'url': 'http://twitter.com...  2020-10-10T13:22:57Z   \n",
       "\n",
       "             created_at                              locations  \n",
       "0  2020-10-09T05:39:59Z  [{'name': 'Berlin', 'woeid': 638242}]  "
      ]
     },
     "execution_count": 47,
     "metadata": {},
     "output_type": "execute_result"
    }
   ],
   "source": [
    "pd.json_normalize(trends_berlin)"
   ]
  },
  {
   "cell_type": "code",
   "execution_count": 48,
   "metadata": {},
   "outputs": [
    {
     "data": {
      "text/plain": [
       "dict_keys(['trends', 'as_of', 'created_at', 'locations'])"
      ]
     },
     "execution_count": 48,
     "metadata": {},
     "output_type": "execute_result"
    }
   ],
   "source": [
    "trends_berlin[0].keys()\n",
    "\n"
   ]
  },
  {
   "cell_type": "code",
   "execution_count": 49,
   "metadata": {},
   "outputs": [
    {
     "data": {
      "text/plain": [
       "'2020-10-09T05:39:59Z'"
      ]
     },
     "execution_count": 49,
     "metadata": {},
     "output_type": "execute_result"
    }
   ],
   "source": [
    "trends_berlin[0]['created_at']"
   ]
  },
  {
   "cell_type": "code",
   "execution_count": 50,
   "metadata": {},
   "outputs": [
    {
     "data": {
      "text/plain": [
       "[{'name': 'Berlin', 'woeid': 638242}]"
      ]
     },
     "execution_count": 50,
     "metadata": {},
     "output_type": "execute_result"
    }
   ],
   "source": [
    "trends_berlin[0]['locations']"
   ]
  },
  {
   "cell_type": "code",
   "execution_count": 51,
   "metadata": {},
   "outputs": [
    {
     "data": {
      "text/plain": [
       "'#b1010'"
      ]
     },
     "execution_count": 51,
     "metadata": {},
     "output_type": "execute_result"
    }
   ],
   "source": [
    "# trends_berlin[0]['trends']\n",
    "# Want the first paragraph of trends\n",
    "# trends_berlin[0]['trends'][0]\n",
    "\n",
    "## I only want the name then its \n",
    "trends_berlin[0]['trends'][0]['name']"
   ]
  },
  {
   "cell_type": "code",
   "execution_count": 52,
   "metadata": {},
   "outputs": [
    {
     "data": {
      "text/plain": [
       "['#b1010',\n",
       " '#Welthundetag',\n",
       " '#MapOfTheSoulOne',\n",
       " '#WorldMentalHealthDay',\n",
       " 'Kapitalismus']"
      ]
     },
     "execution_count": 52,
     "metadata": {},
     "output_type": "execute_result"
    }
   ],
   "source": [
    "# Getting the first five elements in the list \n",
    "\n",
    "[trends_berlin[0]['trends'][i]['name'] for i in range(5)]"
   ]
  },
  {
   "cell_type": "code",
   "execution_count": null,
   "metadata": {},
   "outputs": [],
   "source": []
  },
  {
   "cell_type": "code",
   "execution_count": null,
   "metadata": {},
   "outputs": [],
   "source": []
  },
  {
   "cell_type": "code",
   "execution_count": null,
   "metadata": {},
   "outputs": [],
   "source": []
  },
  {
   "cell_type": "code",
   "execution_count": null,
   "metadata": {},
   "outputs": [],
   "source": []
  }
 ],
 "metadata": {
  "kernelspec": {
   "display_name": "Python 3",
   "language": "python",
   "name": "python3"
  },
  "language_info": {
   "codemirror_mode": {
    "name": "ipython",
    "version": 3
   },
   "file_extension": ".py",
   "mimetype": "text/x-python",
   "name": "python",
   "nbconvert_exporter": "python",
   "pygments_lexer": "ipython3",
   "version": "3.8.5"
  }
 },
 "nbformat": 4,
 "nbformat_minor": 4
}
