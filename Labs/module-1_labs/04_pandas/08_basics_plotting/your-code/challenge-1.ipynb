{
 "cells": [
  {
   "cell_type": "markdown",
   "metadata": {},
   "source": [
    "## Before you start :\n",
    "   - These exercises are related to the Exploratory data analysis using matplotlib.\n",
    "   - Keep in mind that you need to use some of the functions you learned in the previous lessons.\n",
    "   - Try your best to answer the questions and complete the tasks and most importantly enjoy the process!!!"
   ]
  },
  {
   "cell_type": "markdown",
   "metadata": {},
   "source": [
    "# Challenge 1"
   ]
  },
  {
   "cell_type": "markdown",
   "metadata": {},
   "source": [
    "#### Import all the libraries that are necessary."
   ]
  },
  {
   "cell_type": "code",
   "execution_count": 15,
   "metadata": {},
   "outputs": [],
   "source": [
    "# import libraries here\n",
    "import numpy as np\n",
    "import pandas as pd\n",
    "import matplotlib.pyplot as plt"
   ]
  },
  {
   "cell_type": "markdown",
   "metadata": {},
   "source": [
    "#### Define your own data. We would like to have a variable callex which contains a list of numbers from 0 to 100. Furthermore, we would like a variables called y which is twice x, and a variable called z which is the square of x."
   ]
  },
  {
   "cell_type": "code",
   "execution_count": 16,
   "metadata": {},
   "outputs": [],
   "source": [
    "# your code here\n",
    "x = list(range(0, 101))\n",
    "y = [i * 2 for i in x]\n",
    "z = [a ** 2 for a in x]"
   ]
  },
  {
   "cell_type": "markdown",
   "metadata": {},
   "source": [
    "#### Plot (x,y) and (x,z) on the axes in a line plot.\n",
    "\n",
    "#### There are 2 ways of doing this - the way we have seen in class, and also using a subplot. Please research and try both!\n",
    "\n",
    "*Hint: Check out the `nrows`, `ncols`, and `index` arguments of [subplots](https://matplotlib.org/api/_as_gen/matplotlib.pyplot.subplot.html)*\n",
    "\n",
    "#### Also, play around with the linewidth and style. Use the ones you're most happy with."
   ]
  },
  {
   "cell_type": "code",
   "execution_count": 17,
   "metadata": {},
   "outputs": [
    {
     "data": {
      "image/png": "[encoded data removed]",
      "text/plain": [
       "<Figure size 432x288 with 1 Axes>"
      ]
     },
     "metadata": {
      "needs_background": "light"
     },
     "output_type": "display_data"
    }
   ],
   "source": [
    "# your code here - 1st way\n",
    "plt.plot(x, y)\n",
    "plt.plot(x, z,)\n",
    "plt.show()"
   ]
  },
  {
   "cell_type": "code",
   "execution_count": 18,
   "metadata": {},
   "outputs": [
    {
     "data": {
      "image/png": "[encoded data removed]",
      "text/plain": [
       "<Figure size 432x288 with 2 Axes>"
      ]
     },
     "metadata": {
      "needs_background": "light"
     },
     "output_type": "display_data"
    }
   ],
   "source": [
    "# your code here - 2nd way\n",
    "\n",
    "#subplot(nrows, ncols, index, **kwargs)\n",
    "plt.subplot(1,2,1)\n",
    "plt.plot(x,y, color = 'blue')\n",
    "plt.title('First subplot')\n",
    "plt.subplot(1,2,2)\n",
    "plt.plot(x,z, color = 'red')\n",
    "plt.title('Second plot')\n",
    "plt.show()\n"
   ]
  },
  {
   "cell_type": "code",
   "execution_count": 19,
   "metadata": {},
   "outputs": [
    {
     "name": "stdout",
     "output_type": "stream",
     "text": [
      "Help on function subplot in module matplotlib.pyplot:\n",
      "\n",
      "subplot(*args, **kwargs)\n",
      "    Add a subplot to the current figure.\n",
      "    \n",
      "    Wrapper of `.Figure.add_subplot` with a difference in behavior\n",
      "    explained in the notes section.\n",
      "    \n",
      "    Call signatures::\n",
      "    \n",
      "       subplot(nrows, ncols, index, **kwargs)\n",
      "       subplot(pos, **kwargs)\n",
      "       subplot(**kwargs)\n",
      "       subplot(ax)\n",
      "    \n",
      "    Parameters\n",
      "    ----------\n",
      "    *args : int, (int, int, *index*), or `.SubplotSpec`, default: (1, 1, 1)\n",
      "        The position of the subplot described by one of\n",
      "    \n",
      "        - Three integers (*nrows*, *ncols*, *index*). The subplot will take the\n",
      "          *index* position on a grid with *nrows* rows and *ncols* columns.\n",
      "          *index* starts at 1 in the upper left corner and increases to the\n",
      "          right. *index* can also be a two-tuple specifying the (*first*,\n",
      "          *last*) indices (1-based, and including *last*) of the subplot, e.g.,\n",
      "          ``fig.add_subplot(3, 1, (1, 2))`` makes a subplot that spans the\n",
      "          upper 2/3 of the figure.\n",
      "        - A 3-digit integer. The digits are interpreted as if given separately\n",
      "          as three single-digit integers, i.e. ``fig.add_subplot(235)`` is the\n",
      "          same as ``fig.add_subplot(2, 3, 5)``. Note that this can only be used\n",
      "          if there are no more than 9 subplots.\n",
      "        - A `.SubplotSpec`.\n",
      "    \n",
      "    projection : {None, 'aitoff', 'hammer', 'lambert', 'mollweide', 'polar', 'rectilinear', str}, optional\n",
      "        The projection type of the subplot (`~.axes.Axes`). *str* is the name\n",
      "        of a custom projection, see `~matplotlib.projections`. The default\n",
      "        None results in a 'rectilinear' projection.\n",
      "    \n",
      "    polar : bool, default: False\n",
      "        If True, equivalent to projection='polar'.\n",
      "    \n",
      "    sharex, sharey : `~.axes.Axes`, optional\n",
      "        Share the x or y `~matplotlib.axis` with sharex and/or sharey. The\n",
      "        axis will have the same limits, ticks, and scale as the axis of the\n",
      "        shared axes.\n",
      "    \n",
      "    label : str\n",
      "        A label for the returned axes.\n",
      "    \n",
      "    Returns\n",
      "    -------\n",
      "    `.axes.SubplotBase`, or another subclass of `~.axes.Axes`\n",
      "    \n",
      "        The axes of the subplot. The returned axes base class depends on\n",
      "        the projection used. It is `~.axes.Axes` if rectilinear projection\n",
      "        is used and `.projections.polar.PolarAxes` if polar projection\n",
      "        is used. The returned axes is then a subplot subclass of the\n",
      "        base class.\n",
      "    \n",
      "    Other Parameters\n",
      "    ----------------\n",
      "    **kwargs\n",
      "        This method also takes the keyword arguments for the returned axes\n",
      "        base class; except for the *figure* argument. The keyword arguments\n",
      "        for the rectilinear base class `~.axes.Axes` can be found in\n",
      "        the following table but there might also be other keyword\n",
      "        arguments if another projection is used.\n",
      "    \n",
      "        Properties:\n",
      "        adjustable: {'box', 'datalim'}\n",
      "        agg_filter: a filter function, which takes a (m, n, 3) float array and a dpi value, and returns a (m, n, 3) array\n",
      "        alpha: float or None\n",
      "        anchor: 2-tuple of floats or {'C', 'SW', 'S', 'SE', ...}\n",
      "        animated: bool\n",
      "        aspect: {'auto'} or num\n",
      "        autoscale_on: bool\n",
      "        autoscalex_on: bool\n",
      "        autoscaley_on: bool\n",
      "        axes_locator: Callable[[Axes, Renderer], Bbox]\n",
      "        axisbelow: bool or 'line'\n",
      "        box_aspect: None, or a number\n",
      "        clip_box: `.Bbox`\n",
      "        clip_on: bool\n",
      "        clip_path: Patch or (Path, Transform) or None\n",
      "        contains: unknown\n",
      "        facecolor or fc: color\n",
      "        figure: `.Figure`\n",
      "        frame_on: bool\n",
      "        gid: str\n",
      "        in_layout: bool\n",
      "        label: object\n",
      "        navigate: bool\n",
      "        navigate_mode: unknown\n",
      "        path_effects: `.AbstractPathEffect`\n",
      "        picker: None or bool or callable\n",
      "        position: [left, bottom, width, height] or `~matplotlib.transforms.Bbox`\n",
      "        prop_cycle: unknown\n",
      "        rasterization_zorder: float or None\n",
      "        rasterized: bool or None\n",
      "        sketch_params: (scale: float, length: float, randomness: float)\n",
      "        snap: bool or None\n",
      "        title: str\n",
      "        transform: `.Transform`\n",
      "        url: str\n",
      "        visible: bool\n",
      "        xbound: unknown\n",
      "        xlabel: str\n",
      "        xlim: (bottom: float, top: float)\n",
      "        xmargin: float greater than -0.5\n",
      "        xscale: {\"linear\", \"log\", \"symlog\", \"logit\", ...}\n",
      "        xticklabels: unknown\n",
      "        xticks: unknown\n",
      "        ybound: unknown\n",
      "        ylabel: str\n",
      "        ylim: (bottom: float, top: float)\n",
      "        ymargin: float greater than -0.5\n",
      "        yscale: {\"linear\", \"log\", \"symlog\", \"logit\", ...}\n",
      "        yticklabels: unknown\n",
      "        yticks: unknown\n",
      "        zorder: float\n",
      "    \n",
      "    Notes\n",
      "    -----\n",
      "    Creating a subplot will delete any pre-existing subplot that overlaps\n",
      "    with it beyond sharing a boundary::\n",
      "    \n",
      "        import matplotlib.pyplot as plt\n",
      "        # plot a line, implicitly creating a subplot(111)\n",
      "        plt.plot([1, 2, 3])\n",
      "        # now create a subplot which represents the top plot of a grid\n",
      "        # with 2 rows and 1 column. Since this subplot will overlap the\n",
      "        # first, the plot (and its axes) previously created, will be removed\n",
      "        plt.subplot(211)\n",
      "    \n",
      "    If you do not want this behavior, use the `.Figure.add_subplot` method\n",
      "    or the `.pyplot.axes` function instead.\n",
      "    \n",
      "    If the figure already has a subplot with key (*args*,\n",
      "    *kwargs*) then it will simply make that subplot current and\n",
      "    return it.  This behavior is deprecated. Meanwhile, if you do\n",
      "    not want this behavior (i.e., you want to force the creation of a\n",
      "    new subplot), you must use a unique set of args and kwargs.  The axes\n",
      "    *label* attribute has been exposed for this purpose: if you want\n",
      "    two subplots that are otherwise identical to be added to the figure,\n",
      "    make sure you give them unique labels.\n",
      "    \n",
      "    In rare circumstances, `.add_subplot` may be called with a single\n",
      "    argument, a subplot axes instance already created in the\n",
      "    present figure but not in the figure's list of axes.\n",
      "    \n",
      "    See Also\n",
      "    --------\n",
      "    .Figure.add_subplot\n",
      "    .pyplot.subplots\n",
      "    .pyplot.axes\n",
      "    .Figure.subplots\n",
      "    \n",
      "    Examples\n",
      "    --------\n",
      "    ::\n",
      "    \n",
      "        plt.subplot(221)\n",
      "    \n",
      "        # equivalent but more general\n",
      "        ax1=plt.subplot(2, 2, 1)\n",
      "    \n",
      "        # add a subplot with no frame\n",
      "        ax2=plt.subplot(222, frameon=False)\n",
      "    \n",
      "        # add a polar subplot\n",
      "        plt.subplot(223, projection='polar')\n",
      "    \n",
      "        # add a red subplot that shares the x-axis with ax1\n",
      "        plt.subplot(224, sharex=ax1, facecolor='red')\n",
      "    \n",
      "        # delete ax2 from the figure\n",
      "        plt.delaxes(ax2)\n",
      "    \n",
      "        # add ax2 to the figure again\n",
      "        plt.subplot(ax2)\n",
      "\n"
     ]
    }
   ],
   "source": [
    "help(plt.subplot)"
   ]
  },
  {
   "cell_type": "markdown",
   "metadata": {},
   "source": [
    "#### Augmenting your previous code, label your axes."
   ]
  },
  {
   "cell_type": "code",
   "execution_count": 20,
   "metadata": {},
   "outputs": [
    {
     "data": {
      "image/png": "[encoded data removed]",
      "text/plain": [
       "<Figure size 432x288 with 1 Axes>"
      ]
     },
     "metadata": {
      "needs_background": "light"
     },
     "output_type": "display_data"
    }
   ],
   "source": [
    "# your code here\n",
    "plt.plot(x, y)\n",
    "plt.plot(x, z,)\n",
    "plt.xlabel('X axis')\n",
    "plt.ylabel('Y axis')\n",
    "plt.show()"
   ]
  },
  {
   "cell_type": "markdown",
   "metadata": {},
   "source": [
    "#### Plot both `y=x^2` and `y=exp(x)` in the same plot using normal and logarithmic scale.\n",
    "\n",
    "*Hint: Use `set_xscale` and `set_yscale`*"
   ]
  },
  {
   "cell_type": "code",
   "execution_count": 21,
   "metadata": {},
   "outputs": [
    {
     "ename": "SyntaxError",
     "evalue": "invalid syntax (<ipython-input-21-04d1cef393b5>, line 2)",
     "output_type": "error",
     "traceback": [
      "\u001b[0;36m  File \u001b[0;32m\"<ipython-input-21-04d1cef393b5>\"\u001b[0;36m, line \u001b[0;32m2\u001b[0m\n\u001b[0;31m    set_xscale =\u001b[0m\n\u001b[0m                 ^\u001b[0m\n\u001b[0;31mSyntaxError\u001b[0m\u001b[0;31m:\u001b[0m invalid syntax\n"
     ]
    }
   ],
   "source": [
    "# your code here\n",
    "set_xscale = "
   ]
  },
  {
   "cell_type": "markdown",
   "metadata": {},
   "source": [
    "### Using DataFrames"
   ]
  },
  {
   "cell_type": "markdown",
   "metadata": {},
   "source": [
    "#### In the vehicles data set that you have downloaded, use the vehicles.csv file. In this exercise we will conduct some exploratory data analysis using one plot each of scatter plot, box plot, histogram, and bar chart. "
   ]
  },
  {
   "cell_type": "markdown",
   "metadata": {},
   "source": [
    "Please provide a scatter plot between \"Combined MPG\" as X variable and \n",
    "\"Highway MPG\" as Y variable"
   ]
  },
  {
   "cell_type": "code",
   "execution_count": 22,
   "metadata": {},
   "outputs": [
    {
     "data": {
      "image/png": "[encoded data removed]",
      "text/plain": [
       "<Figure size 432x288 with 1 Axes>"
      ]
     },
     "metadata": {
      "needs_background": "light"
     },
     "output_type": "display_data"
    }
   ],
   "source": [
    "# your code here\n",
    "df = pd.read_csv('vehicles.csv')\n",
    "##vehicles.head()\n",
    "\n",
    "## scatter plot between \"Combined MPG\" as X variable and \"Highway MPG\" as Y variable\n",
    "\n",
    "plt.scatter(df['Combined MPG'], df['Highway MPG'], color = 'red')\n",
    "plt.xlabel('Combined MPG')\n",
    "plt.ylabel('Highway MPG')\n",
    "plt.show()"
   ]
  },
  {
   "cell_type": "markdown",
   "metadata": {},
   "source": [
    "Bar Chart\n",
    "\n",
    "Please provide a bar chart of the Fuel Type on the X axis and \"City MPG\" on the Y axis"
   ]
  },
  {
   "cell_type": "code",
   "execution_count": 25,
   "metadata": {},
   "outputs": [
    {
     "data": {
      "image/png": "[encoded data removed]",
      "text/plain": [
       "<Figure size 432x288 with 1 Axes>"
      ]
     },
     "metadata": {
      "needs_background": "light"
     },
     "output_type": "display_data"
    }
   ],
   "source": [
    "# your code here\n",
    "plt.bar(df[\"Fuel Type\"], height = df[\"City MPG\"])\n",
    "plt.show()"
   ]
  },
  {
   "cell_type": "markdown",
   "metadata": {},
   "source": [
    "Histogram\n",
    "\n",
    "Please provide a histogram of the Fuel Barrels/Year"
   ]
  },
  {
   "cell_type": "code",
   "execution_count": 27,
   "metadata": {},
   "outputs": [
    {
     "ename": "KeyError",
     "evalue": "'Fuel Barrels'",
     "output_type": "error",
     "traceback": [
      "\u001b[0;31m---------------------------------------------------------------------------\u001b[0m",
      "\u001b[0;31mKeyError\u001b[0m                                  Traceback (most recent call last)",
      "\u001b[0;32m~/opt/anaconda3/envs/kittycat/lib/python3.8/site-packages/pandas/core/indexes/base.py\u001b[0m in \u001b[0;36mget_loc\u001b[0;34m(self, key, method, tolerance)\u001b[0m\n\u001b[1;32m   2888\u001b[0m             \u001b[0;32mtry\u001b[0m\u001b[0;34m:\u001b[0m\u001b[0;34m\u001b[0m\u001b[0;34m\u001b[0m\u001b[0m\n\u001b[0;32m-> 2889\u001b[0;31m                 \u001b[0;32mreturn\u001b[0m \u001b[0mself\u001b[0m\u001b[0;34m.\u001b[0m\u001b[0m_engine\u001b[0m\u001b[0;34m.\u001b[0m\u001b[0mget_loc\u001b[0m\u001b[0;34m(\u001b[0m\u001b[0mcasted_key\u001b[0m\u001b[0;34m)\u001b[0m\u001b[0;34m\u001b[0m\u001b[0;34m\u001b[0m\u001b[0m\n\u001b[0m\u001b[1;32m   2890\u001b[0m             \u001b[0;32mexcept\u001b[0m \u001b[0mKeyError\u001b[0m \u001b[0;32mas\u001b[0m \u001b[0merr\u001b[0m\u001b[0;34m:\u001b[0m\u001b[0;34m\u001b[0m\u001b[0;34m\u001b[0m\u001b[0m\n",
      "\u001b[0;32mpandas/_libs/index.pyx\u001b[0m in \u001b[0;36mpandas._libs.index.IndexEngine.get_loc\u001b[0;34m()\u001b[0m\n",
      "\u001b[0;32mpandas/_libs/index.pyx\u001b[0m in \u001b[0;36mpandas._libs.index.IndexEngine.get_loc\u001b[0;34m()\u001b[0m\n",
      "\u001b[0;32mpandas/_libs/hashtable_class_helper.pxi\u001b[0m in \u001b[0;36mpandas._libs.hashtable.PyObjectHashTable.get_item\u001b[0;34m()\u001b[0m\n",
      "\u001b[0;32mpandas/_libs/hashtable_class_helper.pxi\u001b[0m in \u001b[0;36mpandas._libs.hashtable.PyObjectHashTable.get_item\u001b[0;34m()\u001b[0m\n",
      "\u001b[0;31mKeyError\u001b[0m: 'Fuel Barrels'",
      "\nThe above exception was the direct cause of the following exception:\n",
      "\u001b[0;31mKeyError\u001b[0m                                  Traceback (most recent call last)",
      "\u001b[0;32m<ipython-input-27-64cf5739da49>\u001b[0m in \u001b[0;36m<module>\u001b[0;34m\u001b[0m\n\u001b[1;32m      1\u001b[0m \u001b[0;31m# your code here\u001b[0m\u001b[0;34m\u001b[0m\u001b[0;34m\u001b[0m\u001b[0;34m\u001b[0m\u001b[0m\n\u001b[0;32m----> 2\u001b[0;31m \u001b[0mplt\u001b[0m\u001b[0;34m.\u001b[0m\u001b[0mbarh\u001b[0m\u001b[0;34m(\u001b[0m\u001b[0mdf\u001b[0m\u001b[0;34m[\u001b[0m\u001b[0;34m'Fuel Barrels'\u001b[0m\u001b[0;34m]\u001b[0m\u001b[0;34m,\u001b[0m \u001b[0mwidth\u001b[0m \u001b[0;34m=\u001b[0m \u001b[0mdf\u001b[0m\u001b[0;34m[\u001b[0m\u001b[0;34m'Year'\u001b[0m\u001b[0;34m]\u001b[0m\u001b[0;34m)\u001b[0m\u001b[0;34m\u001b[0m\u001b[0;34m\u001b[0m\u001b[0m\n\u001b[0m\u001b[1;32m      3\u001b[0m \u001b[0mplt\u001b[0m\u001b[0;34m.\u001b[0m\u001b[0mshow\u001b[0m\u001b[0;34m(\u001b[0m\u001b[0;34m)\u001b[0m\u001b[0;34m\u001b[0m\u001b[0;34m\u001b[0m\u001b[0m\n",
      "\u001b[0;32m~/opt/anaconda3/envs/kittycat/lib/python3.8/site-packages/pandas/core/frame.py\u001b[0m in \u001b[0;36m__getitem__\u001b[0;34m(self, key)\u001b[0m\n\u001b[1;32m   2900\u001b[0m             \u001b[0;32mif\u001b[0m \u001b[0mself\u001b[0m\u001b[0;34m.\u001b[0m\u001b[0mcolumns\u001b[0m\u001b[0;34m.\u001b[0m\u001b[0mnlevels\u001b[0m \u001b[0;34m>\u001b[0m \u001b[0;36m1\u001b[0m\u001b[0;34m:\u001b[0m\u001b[0;34m\u001b[0m\u001b[0;34m\u001b[0m\u001b[0m\n\u001b[1;32m   2901\u001b[0m                 \u001b[0;32mreturn\u001b[0m \u001b[0mself\u001b[0m\u001b[0;34m.\u001b[0m\u001b[0m_getitem_multilevel\u001b[0m\u001b[0;34m(\u001b[0m\u001b[0mkey\u001b[0m\u001b[0;34m)\u001b[0m\u001b[0;34m\u001b[0m\u001b[0;34m\u001b[0m\u001b[0m\n\u001b[0;32m-> 2902\u001b[0;31m             \u001b[0mindexer\u001b[0m \u001b[0;34m=\u001b[0m \u001b[0mself\u001b[0m\u001b[0;34m.\u001b[0m\u001b[0mcolumns\u001b[0m\u001b[0;34m.\u001b[0m\u001b[0mget_loc\u001b[0m\u001b[0;34m(\u001b[0m\u001b[0mkey\u001b[0m\u001b[0;34m)\u001b[0m\u001b[0;34m\u001b[0m\u001b[0;34m\u001b[0m\u001b[0m\n\u001b[0m\u001b[1;32m   2903\u001b[0m             \u001b[0;32mif\u001b[0m \u001b[0mis_integer\u001b[0m\u001b[0;34m(\u001b[0m\u001b[0mindexer\u001b[0m\u001b[0;34m)\u001b[0m\u001b[0;34m:\u001b[0m\u001b[0;34m\u001b[0m\u001b[0;34m\u001b[0m\u001b[0m\n\u001b[1;32m   2904\u001b[0m                 \u001b[0mindexer\u001b[0m \u001b[0;34m=\u001b[0m \u001b[0;34m[\u001b[0m\u001b[0mindexer\u001b[0m\u001b[0;34m]\u001b[0m\u001b[0;34m\u001b[0m\u001b[0;34m\u001b[0m\u001b[0m\n",
      "\u001b[0;32m~/opt/anaconda3/envs/kittycat/lib/python3.8/site-packages/pandas/core/indexes/base.py\u001b[0m in \u001b[0;36mget_loc\u001b[0;34m(self, key, method, tolerance)\u001b[0m\n\u001b[1;32m   2889\u001b[0m                 \u001b[0;32mreturn\u001b[0m \u001b[0mself\u001b[0m\u001b[0;34m.\u001b[0m\u001b[0m_engine\u001b[0m\u001b[0;34m.\u001b[0m\u001b[0mget_loc\u001b[0m\u001b[0;34m(\u001b[0m\u001b[0mcasted_key\u001b[0m\u001b[0;34m)\u001b[0m\u001b[0;34m\u001b[0m\u001b[0;34m\u001b[0m\u001b[0m\n\u001b[1;32m   2890\u001b[0m             \u001b[0;32mexcept\u001b[0m \u001b[0mKeyError\u001b[0m \u001b[0;32mas\u001b[0m \u001b[0merr\u001b[0m\u001b[0;34m:\u001b[0m\u001b[0;34m\u001b[0m\u001b[0;34m\u001b[0m\u001b[0m\n\u001b[0;32m-> 2891\u001b[0;31m                 \u001b[0;32mraise\u001b[0m \u001b[0mKeyError\u001b[0m\u001b[0;34m(\u001b[0m\u001b[0mkey\u001b[0m\u001b[0;34m)\u001b[0m \u001b[0;32mfrom\u001b[0m \u001b[0merr\u001b[0m\u001b[0;34m\u001b[0m\u001b[0;34m\u001b[0m\u001b[0m\n\u001b[0m\u001b[1;32m   2892\u001b[0m \u001b[0;34m\u001b[0m\u001b[0m\n\u001b[1;32m   2893\u001b[0m         \u001b[0;32mif\u001b[0m \u001b[0mtolerance\u001b[0m \u001b[0;32mis\u001b[0m \u001b[0;32mnot\u001b[0m \u001b[0;32mNone\u001b[0m\u001b[0;34m:\u001b[0m\u001b[0;34m\u001b[0m\u001b[0;34m\u001b[0m\u001b[0m\n",
      "\u001b[0;31mKeyError\u001b[0m: 'Fuel Barrels'"
     ]
    }
   ],
   "source": [
    "# your code here\n",
    "plt.barh(df['Fuel Barrels'], width = df['Year'])\n",
    "plt.show()"
   ]
  },
  {
   "cell_type": "code",
   "execution_count": null,
   "metadata": {},
   "outputs": [],
   "source": []
  }
 ],
 "metadata": {
  "kernelspec": {
   "display_name": "Python 3",
   "language": "python",
   "name": "python3"
  },
  "language_info": {
   "codemirror_mode": {
    "name": "ipython",
    "version": 3
   },
   "file_extension": ".py",
   "mimetype": "text/x-python",
   "name": "python",
   "nbconvert_exporter": "python",
   "pygments_lexer": "ipython3",
   "version": "3.8.5"
  }
 },
 "nbformat": 4,
 "nbformat_minor": 2
}
